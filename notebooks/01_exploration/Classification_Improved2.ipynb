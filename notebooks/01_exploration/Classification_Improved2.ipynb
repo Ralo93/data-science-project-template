{
 "cells": [
  {
   "cell_type": "markdown",
   "metadata": {},
   "source": [
    "___\n",
    "\n",
    "# Micro Challenge Exploration\n",
    "\n",
    "\n",
    "check also: https://medium.com/saturdays-ai/my-data-science-template-for-python-59a67cba4290"
   ]
  },
  {
   "cell_type": "markdown",
   "metadata": {},
   "source": [
    "# Import Libraries"
   ]
  },
  {
   "cell_type": "code",
   "execution_count": 1,
   "metadata": {},
   "outputs": [],
   "source": [
    "def plot_distribution(df, column_name):\n",
    "    plt.figure(figsize=(10, 6))\n",
    "    \n",
    "    if pd.api.types.is_numeric_dtype(df[column_name]):\n",
    "        # For numerical columns, use histogram, boxplot, and density plot\n",
    "        plt.subplot(1, 2, 1)\n",
    "        sns.histplot(df[column_name].dropna(), kde=True, color='skyblue')\n",
    "        plt.title(f'Histogram of {column_name}')\n",
    "        \n",
    "        plt.subplot(1, 2, 2)\n",
    "        sns.boxplot(x=df[column_name], color='lightgreen')\n",
    "        plt.title(f'Boxplot of {column_name}')\n",
    "        \n",
    "    else:\n",
    "        # For categorical columns, use bar plot\n",
    "        sns.countplot(y=df[column_name], palette=\"viridis\", order=df[column_name].value_counts().index)\n",
    "        plt.title(f'Bar Plot of {column_name}')\n",
    "        \n",
    "    plt.tight_layout()\n",
    "    plt.show()"
   ]
  },
  {
   "cell_type": "code",
   "execution_count": 3,
   "metadata": {},
   "outputs": [],
   "source": [
    "#Reduce dataframe memory usage\n",
    "def reduce_mem_usage(df):\n",
    "    \"\"\" iterate through all the columns of a dataframe and modify the data type\n",
    "        to reduce memory usage.        \n",
    "    \"\"\"\n",
    "    start_mem = df.memory_usage().sum() / 1024**2\n",
    "    print('Memory usage of dataframe is {:.2f} MB'.format(start_mem))\n",
    "    \n",
    "    for col in df.columns:\n",
    "        col_type = df[col].dtype\n",
    "        \n",
    "        if col_type != object:\n",
    "            c_min = df[col].min()\n",
    "            c_max = df[col].max()\n",
    "            if str(col_type)[:3] == 'int':\n",
    "                if c_min > np.iinfo(np.int8).min and c_max < np.iinfo(np.int8).max:\n",
    "                    df[col] = df[col].astype(np.int8)\n",
    "                elif c_min > np.iinfo(np.int16).min and c_max < np.iinfo(np.int16).max:\n",
    "                    df[col] = df[col].astype(np.int16)\n",
    "                elif c_min > np.iinfo(np.int32).min and c_max < np.iinfo(np.int32).max:\n",
    "                    df[col] = df[col].astype(np.int32)\n",
    "                elif c_min > np.iinfo(np.int64).min and c_max < np.iinfo(np.int64).max:\n",
    "                    df[col] = df[col].astype(np.int64)  \n",
    "            else:\n",
    "                if c_min > np.finfo(np.float16).min and c_max < np.finfo(np.float16).max:\n",
    "                    df[col] = df[col].astype(np.float16)\n",
    "                elif c_min > np.finfo(np.float32).min and c_max < np.finfo(np.float32).max:\n",
    "                    df[col] = df[col].astype(np.float32)\n",
    "                else:\n",
    "                    df[col] = df[col].astype(np.float64)\n",
    "        else:\n",
    "            df[col] = df[col].astype('category')\n",
    "\n",
    "    end_mem = df.memory_usage().sum() / 1024**2\n",
    "    print('Memory usage after optimization is: {:.2f} MB'.format(end_mem))\n",
    "    print('Decreased by {:.1f}%'.format(100 * (start_mem - end_mem) / start_mem))\n",
    "    \n",
    "    return df"
   ]
  },
  {
   "cell_type": "code",
   "execution_count": 4,
   "metadata": {},
   "outputs": [],
   "source": [
    "import pandas as pd\n",
    "\n",
    "def summarize_dataframe(df):\n",
    "    summary_list = []  # List to store summary information\n",
    "\n",
    "    for column in df.columns:\n",
    "        unique_values = df[column].unique()\n",
    "        summary_list.append({\n",
    "            'Column': column,\n",
    "            'Data Type': df[column].dtype,\n",
    "            'Unique Values': df[column].nunique(),\n",
    "            'Missing Values': df[column].isnull().sum(),\n",
    "            'Sample Unique Values': unique_values[:5] if len(unique_values) > 5 else unique_values\n",
    "        })\n",
    "\n",
    "    # Convert the list of dictionaries into a DataFrame\n",
    "    summary_df = pd.DataFrame(summary_list)\n",
    "\n",
    "    return summary_df\n"
   ]
  },
  {
   "cell_type": "code",
   "execution_count": 5,
   "metadata": {},
   "outputs": [],
   "source": [
    "import numpy as np\n",
    "import pandas as pd\n",
    "import seaborn as sns\n",
    "import matplotlib.pyplot as plt\n",
    "from sklearn.preprocessing import OneHotEncoder, OrdinalEncoder,StandardScaler\n",
    "from sklearn.metrics import mean_absolute_error\n",
    "from sklearn.linear_model import LinearRegression\n",
    "from sklearn.ensemble import RandomForestRegressor\n",
    "from sklearn.model_selection import cross_val_score\n",
    "from sklearn.model_selection import train_test_split\n",
    "from sklearn.pipeline import Pipeline\n",
    "from sklearn.compose import ColumnTransformer\n",
    "\n",
    "%matplotlib inline"
   ]
  },
  {
   "cell_type": "code",
   "execution_count": 8,
   "metadata": {},
   "outputs": [
    {
     "name": "stdout",
     "output_type": "stream",
     "text": [
      "C:\\Users\\Administrator\\Desktop\\raphi_other\\repositories\\data-science-project-template\\notebooks\\01_exploration\n",
      "C:\\Users\\Administrator\\Desktop\\raphi_other\\repositories\\data-science-project-template\\data\\01_raw\\ml_fundamental_dataset\\archive\n"
     ]
    }
   ],
   "source": [
    "import os\n",
    "print(os.getcwd())\n",
    "os.chdir(r'C:\\Users\\Administrator\\Desktop\\raphi_other\\repositories\\data-science-project-template\\data\\01_raw\\ml_fundamental_dataset/archive')\n",
    "print(os.getcwd())"
   ]
  },
  {
   "cell_type": "code",
   "execution_count": 9,
   "metadata": {},
   "outputs": [],
   "source": [
    "df = pd.read_csv('salary.csv')\n",
    "#df = reduce_mem_usage(df)"
   ]
  },
  {
   "cell_type": "markdown",
   "metadata": {},
   "source": [
    "## Do data exploration here first and clean data"
   ]
  },
  {
   "cell_type": "markdown",
   "metadata": {},
   "source": [
    "#### for data types, cat cardinality and what you want to keep"
   ]
  },
  {
   "cell_type": "code",
   "execution_count": 12,
   "metadata": {},
   "outputs": [
    {
     "name": "stdout",
     "output_type": "stream",
     "text": [
      "Index(['age', 'workclass', 'fnlwgt', 'education', 'education-num',\n",
      "       'marital-status', 'occupation', 'relationship', 'race', 'sex',\n",
      "       'capital-gain', 'capital-loss', 'hours-per-week', 'native-country',\n",
      "       'salary'],\n",
      "      dtype='object')\n"
     ]
    }
   ],
   "source": [
    "print(df.columns)"
   ]
  },
  {
   "cell_type": "code",
   "execution_count": 13,
   "metadata": {},
   "outputs": [
    {
     "name": "stdout",
     "output_type": "stream",
     "text": [
      "(32561, 15)\n"
     ]
    }
   ],
   "source": [
    "print(df.shape)"
   ]
  },
  {
   "cell_type": "code",
   "execution_count": 16,
   "metadata": {},
   "outputs": [
    {
     "data": {
      "text/html": [
       "<div>\n",
       "<style scoped>\n",
       "    .dataframe tbody tr th:only-of-type {\n",
       "        vertical-align: middle;\n",
       "    }\n",
       "\n",
       "    .dataframe tbody tr th {\n",
       "        vertical-align: top;\n",
       "    }\n",
       "\n",
       "    .dataframe thead th {\n",
       "        text-align: right;\n",
       "    }\n",
       "</style>\n",
       "<table border=\"1\" class=\"dataframe\">\n",
       "  <thead>\n",
       "    <tr style=\"text-align: right;\">\n",
       "      <th></th>\n",
       "      <th>age</th>\n",
       "      <th>fnlwgt</th>\n",
       "      <th>education-num</th>\n",
       "      <th>capital-gain</th>\n",
       "      <th>capital-loss</th>\n",
       "      <th>hours-per-week</th>\n",
       "    </tr>\n",
       "  </thead>\n",
       "  <tbody>\n",
       "    <tr>\n",
       "      <th>count</th>\n",
       "      <td>32561.0</td>\n",
       "      <td>32561.0</td>\n",
       "      <td>32561.0</td>\n",
       "      <td>32561.0</td>\n",
       "      <td>32561.0</td>\n",
       "      <td>32561.0</td>\n",
       "    </tr>\n",
       "    <tr>\n",
       "      <th>mean</th>\n",
       "      <td>39.0</td>\n",
       "      <td>189778.0</td>\n",
       "      <td>10.0</td>\n",
       "      <td>1078.0</td>\n",
       "      <td>87.0</td>\n",
       "      <td>40.0</td>\n",
       "    </tr>\n",
       "    <tr>\n",
       "      <th>std</th>\n",
       "      <td>14.0</td>\n",
       "      <td>105550.0</td>\n",
       "      <td>3.0</td>\n",
       "      <td>7385.0</td>\n",
       "      <td>403.0</td>\n",
       "      <td>12.0</td>\n",
       "    </tr>\n",
       "    <tr>\n",
       "      <th>min</th>\n",
       "      <td>17.0</td>\n",
       "      <td>12285.0</td>\n",
       "      <td>1.0</td>\n",
       "      <td>0.0</td>\n",
       "      <td>0.0</td>\n",
       "      <td>1.0</td>\n",
       "    </tr>\n",
       "    <tr>\n",
       "      <th>25%</th>\n",
       "      <td>28.0</td>\n",
       "      <td>117827.0</td>\n",
       "      <td>9.0</td>\n",
       "      <td>0.0</td>\n",
       "      <td>0.0</td>\n",
       "      <td>40.0</td>\n",
       "    </tr>\n",
       "    <tr>\n",
       "      <th>50%</th>\n",
       "      <td>37.0</td>\n",
       "      <td>178356.0</td>\n",
       "      <td>10.0</td>\n",
       "      <td>0.0</td>\n",
       "      <td>0.0</td>\n",
       "      <td>40.0</td>\n",
       "    </tr>\n",
       "    <tr>\n",
       "      <th>75%</th>\n",
       "      <td>48.0</td>\n",
       "      <td>237051.0</td>\n",
       "      <td>12.0</td>\n",
       "      <td>0.0</td>\n",
       "      <td>0.0</td>\n",
       "      <td>45.0</td>\n",
       "    </tr>\n",
       "    <tr>\n",
       "      <th>max</th>\n",
       "      <td>90.0</td>\n",
       "      <td>1484705.0</td>\n",
       "      <td>16.0</td>\n",
       "      <td>99999.0</td>\n",
       "      <td>4356.0</td>\n",
       "      <td>99.0</td>\n",
       "    </tr>\n",
       "  </tbody>\n",
       "</table>\n",
       "</div>"
      ],
      "text/plain": [
       "           age     fnlwgt  education-num  capital-gain  capital-loss  \\\n",
       "count  32561.0    32561.0        32561.0       32561.0       32561.0   \n",
       "mean      39.0   189778.0           10.0        1078.0          87.0   \n",
       "std       14.0   105550.0            3.0        7385.0         403.0   \n",
       "min       17.0    12285.0            1.0           0.0           0.0   \n",
       "25%       28.0   117827.0            9.0           0.0           0.0   \n",
       "50%       37.0   178356.0           10.0           0.0           0.0   \n",
       "75%       48.0   237051.0           12.0           0.0           0.0   \n",
       "max       90.0  1484705.0           16.0       99999.0        4356.0   \n",
       "\n",
       "       hours-per-week  \n",
       "count         32561.0  \n",
       "mean             40.0  \n",
       "std              12.0  \n",
       "min               1.0  \n",
       "25%              40.0  \n",
       "50%              40.0  \n",
       "75%              45.0  \n",
       "max              99.0  "
      ]
     },
     "execution_count": 16,
     "metadata": {},
     "output_type": "execute_result"
    }
   ],
   "source": [
    "df.describe().round()"
   ]
  },
  {
   "cell_type": "code",
   "execution_count": 21,
   "metadata": {},
   "outputs": [
    {
     "data": {
      "text/plain": [
       "hours-per-week\n",
       "40    15217\n",
       "50     2819\n",
       "45     1824\n",
       "60     1475\n",
       "35     1297\n",
       "      ...  \n",
       "82        1\n",
       "92        1\n",
       "87        1\n",
       "74        1\n",
       "94        1\n",
       "Name: count, Length: 94, dtype: int64"
      ]
     },
     "execution_count": 21,
     "metadata": {},
     "output_type": "execute_result"
    }
   ],
   "source": [
    "df['hours-per-week'].value_counts()"
   ]
  },
  {
   "cell_type": "code",
   "execution_count": 23,
   "metadata": {},
   "outputs": [
    {
     "name": "stdout",
     "output_type": "stream",
     "text": [
      "<class 'pandas.core.frame.DataFrame'>\n",
      "RangeIndex: 32561 entries, 0 to 32560\n",
      "Data columns (total 15 columns):\n",
      " #   Column          Non-Null Count  Dtype \n",
      "---  ------          --------------  ----- \n",
      " 0   age             32561 non-null  int64 \n",
      " 1   workclass       32561 non-null  object\n",
      " 2   fnlwgt          32561 non-null  int64 \n",
      " 3   education       32561 non-null  object\n",
      " 4   education-num   32561 non-null  int64 \n",
      " 5   marital-status  32561 non-null  object\n",
      " 6   occupation      32561 non-null  object\n",
      " 7   relationship    32561 non-null  object\n",
      " 8   race            32561 non-null  object\n",
      " 9   sex             32561 non-null  object\n",
      " 10  capital-gain    32561 non-null  int64 \n",
      " 11  capital-loss    32561 non-null  int64 \n",
      " 12  hours-per-week  32561 non-null  int64 \n",
      " 13  native-country  32561 non-null  object\n",
      " 14  salary          32561 non-null  object\n",
      "dtypes: int64(6), object(9)\n",
      "memory usage: 3.7+ MB\n"
     ]
    }
   ],
   "source": [
    "df.info()"
   ]
  },
  {
   "cell_type": "code",
   "execution_count": 25,
   "metadata": {},
   "outputs": [
    {
     "data": {
      "text/html": [
       "<div>\n",
       "<style scoped>\n",
       "    .dataframe tbody tr th:only-of-type {\n",
       "        vertical-align: middle;\n",
       "    }\n",
       "\n",
       "    .dataframe tbody tr th {\n",
       "        vertical-align: top;\n",
       "    }\n",
       "\n",
       "    .dataframe thead th {\n",
       "        text-align: right;\n",
       "    }\n",
       "</style>\n",
       "<table border=\"1\" class=\"dataframe\">\n",
       "  <thead>\n",
       "    <tr style=\"text-align: right;\">\n",
       "      <th></th>\n",
       "      <th>age</th>\n",
       "      <th>workclass</th>\n",
       "      <th>fnlwgt</th>\n",
       "      <th>education</th>\n",
       "      <th>education-num</th>\n",
       "      <th>marital-status</th>\n",
       "      <th>occupation</th>\n",
       "      <th>relationship</th>\n",
       "      <th>race</th>\n",
       "      <th>sex</th>\n",
       "      <th>capital-gain</th>\n",
       "      <th>capital-loss</th>\n",
       "      <th>hours-per-week</th>\n",
       "      <th>native-country</th>\n",
       "      <th>salary</th>\n",
       "    </tr>\n",
       "  </thead>\n",
       "  <tbody>\n",
       "    <tr>\n",
       "      <th>0</th>\n",
       "      <td>39</td>\n",
       "      <td>State-gov</td>\n",
       "      <td>77516</td>\n",
       "      <td>Bachelors</td>\n",
       "      <td>13</td>\n",
       "      <td>Never-married</td>\n",
       "      <td>Adm-clerical</td>\n",
       "      <td>Not-in-family</td>\n",
       "      <td>White</td>\n",
       "      <td>Male</td>\n",
       "      <td>2174</td>\n",
       "      <td>0</td>\n",
       "      <td>40</td>\n",
       "      <td>United-States</td>\n",
       "      <td>&lt;=50K</td>\n",
       "    </tr>\n",
       "    <tr>\n",
       "      <th>1</th>\n",
       "      <td>50</td>\n",
       "      <td>Self-emp-not-inc</td>\n",
       "      <td>83311</td>\n",
       "      <td>Bachelors</td>\n",
       "      <td>13</td>\n",
       "      <td>Married-civ-spouse</td>\n",
       "      <td>Exec-managerial</td>\n",
       "      <td>Husband</td>\n",
       "      <td>White</td>\n",
       "      <td>Male</td>\n",
       "      <td>0</td>\n",
       "      <td>0</td>\n",
       "      <td>13</td>\n",
       "      <td>United-States</td>\n",
       "      <td>&lt;=50K</td>\n",
       "    </tr>\n",
       "    <tr>\n",
       "      <th>2</th>\n",
       "      <td>38</td>\n",
       "      <td>Private</td>\n",
       "      <td>215646</td>\n",
       "      <td>HS-grad</td>\n",
       "      <td>9</td>\n",
       "      <td>Divorced</td>\n",
       "      <td>Handlers-cleaners</td>\n",
       "      <td>Not-in-family</td>\n",
       "      <td>White</td>\n",
       "      <td>Male</td>\n",
       "      <td>0</td>\n",
       "      <td>0</td>\n",
       "      <td>40</td>\n",
       "      <td>United-States</td>\n",
       "      <td>&lt;=50K</td>\n",
       "    </tr>\n",
       "    <tr>\n",
       "      <th>3</th>\n",
       "      <td>53</td>\n",
       "      <td>Private</td>\n",
       "      <td>234721</td>\n",
       "      <td>11th</td>\n",
       "      <td>7</td>\n",
       "      <td>Married-civ-spouse</td>\n",
       "      <td>Handlers-cleaners</td>\n",
       "      <td>Husband</td>\n",
       "      <td>Black</td>\n",
       "      <td>Male</td>\n",
       "      <td>0</td>\n",
       "      <td>0</td>\n",
       "      <td>40</td>\n",
       "      <td>United-States</td>\n",
       "      <td>&lt;=50K</td>\n",
       "    </tr>\n",
       "    <tr>\n",
       "      <th>4</th>\n",
       "      <td>28</td>\n",
       "      <td>Private</td>\n",
       "      <td>338409</td>\n",
       "      <td>Bachelors</td>\n",
       "      <td>13</td>\n",
       "      <td>Married-civ-spouse</td>\n",
       "      <td>Prof-specialty</td>\n",
       "      <td>Wife</td>\n",
       "      <td>Black</td>\n",
       "      <td>Female</td>\n",
       "      <td>0</td>\n",
       "      <td>0</td>\n",
       "      <td>40</td>\n",
       "      <td>Cuba</td>\n",
       "      <td>&lt;=50K</td>\n",
       "    </tr>\n",
       "  </tbody>\n",
       "</table>\n",
       "</div>"
      ],
      "text/plain": [
       "   age          workclass  fnlwgt   education  education-num  \\\n",
       "0   39          State-gov   77516   Bachelors             13   \n",
       "1   50   Self-emp-not-inc   83311   Bachelors             13   \n",
       "2   38            Private  215646     HS-grad              9   \n",
       "3   53            Private  234721        11th              7   \n",
       "4   28            Private  338409   Bachelors             13   \n",
       "\n",
       "        marital-status          occupation    relationship    race      sex  \\\n",
       "0        Never-married        Adm-clerical   Not-in-family   White     Male   \n",
       "1   Married-civ-spouse     Exec-managerial         Husband   White     Male   \n",
       "2             Divorced   Handlers-cleaners   Not-in-family   White     Male   \n",
       "3   Married-civ-spouse   Handlers-cleaners         Husband   Black     Male   \n",
       "4   Married-civ-spouse      Prof-specialty            Wife   Black   Female   \n",
       "\n",
       "   capital-gain  capital-loss  hours-per-week  native-country  salary  \n",
       "0          2174             0              40   United-States   <=50K  \n",
       "1             0             0              13   United-States   <=50K  \n",
       "2             0             0              40   United-States   <=50K  \n",
       "3             0             0              40   United-States   <=50K  \n",
       "4             0             0              40            Cuba   <=50K  "
      ]
     },
     "execution_count": 25,
     "metadata": {},
     "output_type": "execute_result"
    }
   ],
   "source": [
    "df.head()"
   ]
  },
  {
   "cell_type": "code",
   "execution_count": 27,
   "metadata": {},
   "outputs": [],
   "source": [
    "df['salary'] = df['salary'].astype(str)"
   ]
  },
  {
   "cell_type": "code",
   "execution_count": 29,
   "metadata": {},
   "outputs": [],
   "source": [
    "value_map = {\n",
    "    ' <=50K': 0,\n",
    "    ' >50K': 1\n",
    "}\n",
    "df['salary'] = df['salary'].map(value_map)\n"
   ]
  },
  {
   "cell_type": "code",
   "execution_count": null,
   "metadata": {},
   "outputs": [],
   "source": []
  },
  {
   "cell_type": "code",
   "execution_count": 32,
   "metadata": {},
   "outputs": [
    {
     "data": {
      "text/html": [
       "<div>\n",
       "<style scoped>\n",
       "    .dataframe tbody tr th:only-of-type {\n",
       "        vertical-align: middle;\n",
       "    }\n",
       "\n",
       "    .dataframe tbody tr th {\n",
       "        vertical-align: top;\n",
       "    }\n",
       "\n",
       "    .dataframe thead th {\n",
       "        text-align: right;\n",
       "    }\n",
       "</style>\n",
       "<table border=\"1\" class=\"dataframe\">\n",
       "  <thead>\n",
       "    <tr style=\"text-align: right;\">\n",
       "      <th></th>\n",
       "      <th>age</th>\n",
       "      <th>workclass</th>\n",
       "      <th>fnlwgt</th>\n",
       "      <th>education</th>\n",
       "      <th>education-num</th>\n",
       "      <th>marital-status</th>\n",
       "      <th>occupation</th>\n",
       "      <th>relationship</th>\n",
       "      <th>race</th>\n",
       "      <th>sex</th>\n",
       "      <th>capital-gain</th>\n",
       "      <th>capital-loss</th>\n",
       "      <th>hours-per-week</th>\n",
       "      <th>native-country</th>\n",
       "      <th>salary</th>\n",
       "    </tr>\n",
       "  </thead>\n",
       "  <tbody>\n",
       "    <tr>\n",
       "      <th>0</th>\n",
       "      <td>39</td>\n",
       "      <td>State-gov</td>\n",
       "      <td>77516</td>\n",
       "      <td>Bachelors</td>\n",
       "      <td>13</td>\n",
       "      <td>Never-married</td>\n",
       "      <td>Adm-clerical</td>\n",
       "      <td>Not-in-family</td>\n",
       "      <td>White</td>\n",
       "      <td>Male</td>\n",
       "      <td>2174</td>\n",
       "      <td>0</td>\n",
       "      <td>40</td>\n",
       "      <td>United-States</td>\n",
       "      <td>0</td>\n",
       "    </tr>\n",
       "    <tr>\n",
       "      <th>1</th>\n",
       "      <td>50</td>\n",
       "      <td>Self-emp-not-inc</td>\n",
       "      <td>83311</td>\n",
       "      <td>Bachelors</td>\n",
       "      <td>13</td>\n",
       "      <td>Married-civ-spouse</td>\n",
       "      <td>Exec-managerial</td>\n",
       "      <td>Husband</td>\n",
       "      <td>White</td>\n",
       "      <td>Male</td>\n",
       "      <td>0</td>\n",
       "      <td>0</td>\n",
       "      <td>13</td>\n",
       "      <td>United-States</td>\n",
       "      <td>0</td>\n",
       "    </tr>\n",
       "    <tr>\n",
       "      <th>2</th>\n",
       "      <td>38</td>\n",
       "      <td>Private</td>\n",
       "      <td>215646</td>\n",
       "      <td>HS-grad</td>\n",
       "      <td>9</td>\n",
       "      <td>Divorced</td>\n",
       "      <td>Handlers-cleaners</td>\n",
       "      <td>Not-in-family</td>\n",
       "      <td>White</td>\n",
       "      <td>Male</td>\n",
       "      <td>0</td>\n",
       "      <td>0</td>\n",
       "      <td>40</td>\n",
       "      <td>United-States</td>\n",
       "      <td>0</td>\n",
       "    </tr>\n",
       "    <tr>\n",
       "      <th>3</th>\n",
       "      <td>53</td>\n",
       "      <td>Private</td>\n",
       "      <td>234721</td>\n",
       "      <td>11th</td>\n",
       "      <td>7</td>\n",
       "      <td>Married-civ-spouse</td>\n",
       "      <td>Handlers-cleaners</td>\n",
       "      <td>Husband</td>\n",
       "      <td>Black</td>\n",
       "      <td>Male</td>\n",
       "      <td>0</td>\n",
       "      <td>0</td>\n",
       "      <td>40</td>\n",
       "      <td>United-States</td>\n",
       "      <td>0</td>\n",
       "    </tr>\n",
       "    <tr>\n",
       "      <th>4</th>\n",
       "      <td>28</td>\n",
       "      <td>Private</td>\n",
       "      <td>338409</td>\n",
       "      <td>Bachelors</td>\n",
       "      <td>13</td>\n",
       "      <td>Married-civ-spouse</td>\n",
       "      <td>Prof-specialty</td>\n",
       "      <td>Wife</td>\n",
       "      <td>Black</td>\n",
       "      <td>Female</td>\n",
       "      <td>0</td>\n",
       "      <td>0</td>\n",
       "      <td>40</td>\n",
       "      <td>Cuba</td>\n",
       "      <td>0</td>\n",
       "    </tr>\n",
       "  </tbody>\n",
       "</table>\n",
       "</div>"
      ],
      "text/plain": [
       "   age          workclass  fnlwgt   education  education-num  \\\n",
       "0   39          State-gov   77516   Bachelors             13   \n",
       "1   50   Self-emp-not-inc   83311   Bachelors             13   \n",
       "2   38            Private  215646     HS-grad              9   \n",
       "3   53            Private  234721        11th              7   \n",
       "4   28            Private  338409   Bachelors             13   \n",
       "\n",
       "        marital-status          occupation    relationship    race      sex  \\\n",
       "0        Never-married        Adm-clerical   Not-in-family   White     Male   \n",
       "1   Married-civ-spouse     Exec-managerial         Husband   White     Male   \n",
       "2             Divorced   Handlers-cleaners   Not-in-family   White     Male   \n",
       "3   Married-civ-spouse   Handlers-cleaners         Husband   Black     Male   \n",
       "4   Married-civ-spouse      Prof-specialty            Wife   Black   Female   \n",
       "\n",
       "   capital-gain  capital-loss  hours-per-week  native-country  salary  \n",
       "0          2174             0              40   United-States       0  \n",
       "1             0             0              13   United-States       0  \n",
       "2             0             0              40   United-States       0  \n",
       "3             0             0              40   United-States       0  \n",
       "4             0             0              40            Cuba       0  "
      ]
     },
     "execution_count": 32,
     "metadata": {},
     "output_type": "execute_result"
    }
   ],
   "source": [
    "df.head()"
   ]
  },
  {
   "cell_type": "code",
   "execution_count": 34,
   "metadata": {},
   "outputs": [
    {
     "data": {
      "text/html": [
       "<style type=\"text/css\">\n",
       "#T_2af35 th {\n",
       "  text-align: left;\n",
       "}\n",
       "#T_2af35_row0_col0, #T_2af35_row0_col1, #T_2af35_row0_col2, #T_2af35_row0_col3, #T_2af35_row0_col4, #T_2af35_row1_col0, #T_2af35_row1_col1, #T_2af35_row1_col2, #T_2af35_row1_col3, #T_2af35_row1_col4, #T_2af35_row2_col0, #T_2af35_row2_col1, #T_2af35_row2_col2, #T_2af35_row2_col3, #T_2af35_row2_col4, #T_2af35_row3_col0, #T_2af35_row3_col1, #T_2af35_row3_col2, #T_2af35_row3_col3, #T_2af35_row3_col4, #T_2af35_row4_col0, #T_2af35_row4_col1, #T_2af35_row4_col2, #T_2af35_row4_col3, #T_2af35_row4_col4, #T_2af35_row5_col0, #T_2af35_row5_col1, #T_2af35_row5_col2, #T_2af35_row5_col3, #T_2af35_row5_col4, #T_2af35_row6_col0, #T_2af35_row6_col1, #T_2af35_row6_col2, #T_2af35_row6_col3, #T_2af35_row6_col4, #T_2af35_row7_col0, #T_2af35_row7_col1, #T_2af35_row7_col2, #T_2af35_row7_col3, #T_2af35_row7_col4, #T_2af35_row8_col0, #T_2af35_row8_col1, #T_2af35_row8_col2, #T_2af35_row8_col3, #T_2af35_row8_col4, #T_2af35_row9_col0, #T_2af35_row9_col1, #T_2af35_row9_col2, #T_2af35_row9_col3, #T_2af35_row9_col4, #T_2af35_row10_col0, #T_2af35_row10_col1, #T_2af35_row10_col2, #T_2af35_row10_col3, #T_2af35_row10_col4, #T_2af35_row11_col0, #T_2af35_row11_col1, #T_2af35_row11_col2, #T_2af35_row11_col3, #T_2af35_row11_col4, #T_2af35_row12_col0, #T_2af35_row12_col1, #T_2af35_row12_col2, #T_2af35_row12_col3, #T_2af35_row12_col4, #T_2af35_row13_col0, #T_2af35_row13_col1, #T_2af35_row13_col2, #T_2af35_row13_col3, #T_2af35_row13_col4, #T_2af35_row14_col0, #T_2af35_row14_col1, #T_2af35_row14_col2, #T_2af35_row14_col3, #T_2af35_row14_col4 {\n",
       "  text-align: left;\n",
       "}\n",
       "</style>\n",
       "<table id=\"T_2af35\">\n",
       "  <thead>\n",
       "    <tr>\n",
       "      <th class=\"blank level0\" >&nbsp;</th>\n",
       "      <th id=\"T_2af35_level0_col0\" class=\"col_heading level0 col0\" >Column</th>\n",
       "      <th id=\"T_2af35_level0_col1\" class=\"col_heading level0 col1\" >Data Type</th>\n",
       "      <th id=\"T_2af35_level0_col2\" class=\"col_heading level0 col2\" >Unique Values</th>\n",
       "      <th id=\"T_2af35_level0_col3\" class=\"col_heading level0 col3\" >Missing Values</th>\n",
       "      <th id=\"T_2af35_level0_col4\" class=\"col_heading level0 col4\" >Sample Unique Values</th>\n",
       "    </tr>\n",
       "  </thead>\n",
       "  <tbody>\n",
       "    <tr>\n",
       "      <th id=\"T_2af35_level0_row0\" class=\"row_heading level0 row0\" >0</th>\n",
       "      <td id=\"T_2af35_row0_col0\" class=\"data row0 col0\" >age</td>\n",
       "      <td id=\"T_2af35_row0_col1\" class=\"data row0 col1\" >int64</td>\n",
       "      <td id=\"T_2af35_row0_col2\" class=\"data row0 col2\" >73</td>\n",
       "      <td id=\"T_2af35_row0_col3\" class=\"data row0 col3\" >0</td>\n",
       "      <td id=\"T_2af35_row0_col4\" class=\"data row0 col4\" >[39 50 38 53 28]</td>\n",
       "    </tr>\n",
       "    <tr>\n",
       "      <th id=\"T_2af35_level0_row1\" class=\"row_heading level0 row1\" >1</th>\n",
       "      <td id=\"T_2af35_row1_col0\" class=\"data row1 col0\" >workclass</td>\n",
       "      <td id=\"T_2af35_row1_col1\" class=\"data row1 col1\" >object</td>\n",
       "      <td id=\"T_2af35_row1_col2\" class=\"data row1 col2\" >9</td>\n",
       "      <td id=\"T_2af35_row1_col3\" class=\"data row1 col3\" >0</td>\n",
       "      <td id=\"T_2af35_row1_col4\" class=\"data row1 col4\" >[' State-gov' ' Self-emp-not-inc' ' Private' ' Federal-gov' ' Local-gov']</td>\n",
       "    </tr>\n",
       "    <tr>\n",
       "      <th id=\"T_2af35_level0_row2\" class=\"row_heading level0 row2\" >2</th>\n",
       "      <td id=\"T_2af35_row2_col0\" class=\"data row2 col0\" >fnlwgt</td>\n",
       "      <td id=\"T_2af35_row2_col1\" class=\"data row2 col1\" >int64</td>\n",
       "      <td id=\"T_2af35_row2_col2\" class=\"data row2 col2\" >21648</td>\n",
       "      <td id=\"T_2af35_row2_col3\" class=\"data row2 col3\" >0</td>\n",
       "      <td id=\"T_2af35_row2_col4\" class=\"data row2 col4\" >[ 77516  83311 215646 234721 338409]</td>\n",
       "    </tr>\n",
       "    <tr>\n",
       "      <th id=\"T_2af35_level0_row3\" class=\"row_heading level0 row3\" >3</th>\n",
       "      <td id=\"T_2af35_row3_col0\" class=\"data row3 col0\" >education</td>\n",
       "      <td id=\"T_2af35_row3_col1\" class=\"data row3 col1\" >object</td>\n",
       "      <td id=\"T_2af35_row3_col2\" class=\"data row3 col2\" >16</td>\n",
       "      <td id=\"T_2af35_row3_col3\" class=\"data row3 col3\" >0</td>\n",
       "      <td id=\"T_2af35_row3_col4\" class=\"data row3 col4\" >[' Bachelors' ' HS-grad' ' 11th' ' Masters' ' 9th']</td>\n",
       "    </tr>\n",
       "    <tr>\n",
       "      <th id=\"T_2af35_level0_row4\" class=\"row_heading level0 row4\" >4</th>\n",
       "      <td id=\"T_2af35_row4_col0\" class=\"data row4 col0\" >education-num</td>\n",
       "      <td id=\"T_2af35_row4_col1\" class=\"data row4 col1\" >int64</td>\n",
       "      <td id=\"T_2af35_row4_col2\" class=\"data row4 col2\" >16</td>\n",
       "      <td id=\"T_2af35_row4_col3\" class=\"data row4 col3\" >0</td>\n",
       "      <td id=\"T_2af35_row4_col4\" class=\"data row4 col4\" >[13  9  7 14  5]</td>\n",
       "    </tr>\n",
       "    <tr>\n",
       "      <th id=\"T_2af35_level0_row5\" class=\"row_heading level0 row5\" >5</th>\n",
       "      <td id=\"T_2af35_row5_col0\" class=\"data row5 col0\" >marital-status</td>\n",
       "      <td id=\"T_2af35_row5_col1\" class=\"data row5 col1\" >object</td>\n",
       "      <td id=\"T_2af35_row5_col2\" class=\"data row5 col2\" >7</td>\n",
       "      <td id=\"T_2af35_row5_col3\" class=\"data row5 col3\" >0</td>\n",
       "      <td id=\"T_2af35_row5_col4\" class=\"data row5 col4\" >[' Never-married' ' Married-civ-spouse' ' Divorced'\n",
       " ' Married-spouse-absent' ' Separated']</td>\n",
       "    </tr>\n",
       "    <tr>\n",
       "      <th id=\"T_2af35_level0_row6\" class=\"row_heading level0 row6\" >6</th>\n",
       "      <td id=\"T_2af35_row6_col0\" class=\"data row6 col0\" >occupation</td>\n",
       "      <td id=\"T_2af35_row6_col1\" class=\"data row6 col1\" >object</td>\n",
       "      <td id=\"T_2af35_row6_col2\" class=\"data row6 col2\" >15</td>\n",
       "      <td id=\"T_2af35_row6_col3\" class=\"data row6 col3\" >0</td>\n",
       "      <td id=\"T_2af35_row6_col4\" class=\"data row6 col4\" >[' Adm-clerical' ' Exec-managerial' ' Handlers-cleaners' ' Prof-specialty'\n",
       " ' Other-service']</td>\n",
       "    </tr>\n",
       "    <tr>\n",
       "      <th id=\"T_2af35_level0_row7\" class=\"row_heading level0 row7\" >7</th>\n",
       "      <td id=\"T_2af35_row7_col0\" class=\"data row7 col0\" >relationship</td>\n",
       "      <td id=\"T_2af35_row7_col1\" class=\"data row7 col1\" >object</td>\n",
       "      <td id=\"T_2af35_row7_col2\" class=\"data row7 col2\" >6</td>\n",
       "      <td id=\"T_2af35_row7_col3\" class=\"data row7 col3\" >0</td>\n",
       "      <td id=\"T_2af35_row7_col4\" class=\"data row7 col4\" >[' Not-in-family' ' Husband' ' Wife' ' Own-child' ' Unmarried']</td>\n",
       "    </tr>\n",
       "    <tr>\n",
       "      <th id=\"T_2af35_level0_row8\" class=\"row_heading level0 row8\" >8</th>\n",
       "      <td id=\"T_2af35_row8_col0\" class=\"data row8 col0\" >race</td>\n",
       "      <td id=\"T_2af35_row8_col1\" class=\"data row8 col1\" >object</td>\n",
       "      <td id=\"T_2af35_row8_col2\" class=\"data row8 col2\" >5</td>\n",
       "      <td id=\"T_2af35_row8_col3\" class=\"data row8 col3\" >0</td>\n",
       "      <td id=\"T_2af35_row8_col4\" class=\"data row8 col4\" >[' White' ' Black' ' Asian-Pac-Islander' ' Amer-Indian-Eskimo' ' Other']</td>\n",
       "    </tr>\n",
       "    <tr>\n",
       "      <th id=\"T_2af35_level0_row9\" class=\"row_heading level0 row9\" >9</th>\n",
       "      <td id=\"T_2af35_row9_col0\" class=\"data row9 col0\" >sex</td>\n",
       "      <td id=\"T_2af35_row9_col1\" class=\"data row9 col1\" >object</td>\n",
       "      <td id=\"T_2af35_row9_col2\" class=\"data row9 col2\" >2</td>\n",
       "      <td id=\"T_2af35_row9_col3\" class=\"data row9 col3\" >0</td>\n",
       "      <td id=\"T_2af35_row9_col4\" class=\"data row9 col4\" >[' Male' ' Female']</td>\n",
       "    </tr>\n",
       "    <tr>\n",
       "      <th id=\"T_2af35_level0_row10\" class=\"row_heading level0 row10\" >10</th>\n",
       "      <td id=\"T_2af35_row10_col0\" class=\"data row10 col0\" >capital-gain</td>\n",
       "      <td id=\"T_2af35_row10_col1\" class=\"data row10 col1\" >int64</td>\n",
       "      <td id=\"T_2af35_row10_col2\" class=\"data row10 col2\" >119</td>\n",
       "      <td id=\"T_2af35_row10_col3\" class=\"data row10 col3\" >0</td>\n",
       "      <td id=\"T_2af35_row10_col4\" class=\"data row10 col4\" >[ 2174     0 14084  5178  5013]</td>\n",
       "    </tr>\n",
       "    <tr>\n",
       "      <th id=\"T_2af35_level0_row11\" class=\"row_heading level0 row11\" >11</th>\n",
       "      <td id=\"T_2af35_row11_col0\" class=\"data row11 col0\" >capital-loss</td>\n",
       "      <td id=\"T_2af35_row11_col1\" class=\"data row11 col1\" >int64</td>\n",
       "      <td id=\"T_2af35_row11_col2\" class=\"data row11 col2\" >92</td>\n",
       "      <td id=\"T_2af35_row11_col3\" class=\"data row11 col3\" >0</td>\n",
       "      <td id=\"T_2af35_row11_col4\" class=\"data row11 col4\" >[   0 2042 1408 1902 1573]</td>\n",
       "    </tr>\n",
       "    <tr>\n",
       "      <th id=\"T_2af35_level0_row12\" class=\"row_heading level0 row12\" >12</th>\n",
       "      <td id=\"T_2af35_row12_col0\" class=\"data row12 col0\" >hours-per-week</td>\n",
       "      <td id=\"T_2af35_row12_col1\" class=\"data row12 col1\" >int64</td>\n",
       "      <td id=\"T_2af35_row12_col2\" class=\"data row12 col2\" >94</td>\n",
       "      <td id=\"T_2af35_row12_col3\" class=\"data row12 col3\" >0</td>\n",
       "      <td id=\"T_2af35_row12_col4\" class=\"data row12 col4\" >[40 13 16 45 50]</td>\n",
       "    </tr>\n",
       "    <tr>\n",
       "      <th id=\"T_2af35_level0_row13\" class=\"row_heading level0 row13\" >13</th>\n",
       "      <td id=\"T_2af35_row13_col0\" class=\"data row13 col0\" >native-country</td>\n",
       "      <td id=\"T_2af35_row13_col1\" class=\"data row13 col1\" >object</td>\n",
       "      <td id=\"T_2af35_row13_col2\" class=\"data row13 col2\" >42</td>\n",
       "      <td id=\"T_2af35_row13_col3\" class=\"data row13 col3\" >0</td>\n",
       "      <td id=\"T_2af35_row13_col4\" class=\"data row13 col4\" >[' United-States' ' Cuba' ' Jamaica' ' India' ' ?']</td>\n",
       "    </tr>\n",
       "    <tr>\n",
       "      <th id=\"T_2af35_level0_row14\" class=\"row_heading level0 row14\" >14</th>\n",
       "      <td id=\"T_2af35_row14_col0\" class=\"data row14 col0\" >salary</td>\n",
       "      <td id=\"T_2af35_row14_col1\" class=\"data row14 col1\" >int64</td>\n",
       "      <td id=\"T_2af35_row14_col2\" class=\"data row14 col2\" >2</td>\n",
       "      <td id=\"T_2af35_row14_col3\" class=\"data row14 col3\" >0</td>\n",
       "      <td id=\"T_2af35_row14_col4\" class=\"data row14 col4\" >[0 1]</td>\n",
       "    </tr>\n",
       "  </tbody>\n",
       "</table>\n"
      ],
      "text/plain": [
       "<pandas.io.formats.style.Styler at 0x2c9095c1250>"
      ]
     },
     "execution_count": 34,
     "metadata": {},
     "output_type": "execute_result"
    }
   ],
   "source": [
    "# Generate the summary for your dataframe\n",
    "summary_df = summarize_dataframe(df)\n",
    "summary_df.style.set_properties(**{'text-align': 'left'}).set_table_styles([{\n",
    "    'selector': 'th',\n",
    "    'props': [('text-align', 'left')]\n",
    "}])"
   ]
  },
  {
   "cell_type": "code",
   "execution_count": 50,
   "metadata": {},
   "outputs": [
    {
     "name": "stderr",
     "output_type": "stream",
     "text": [
      "C:\\Users\\Administrator\\AppData\\Local\\Temp\\ipykernel_17796\\1879562835.py:16: FutureWarning: \n",
      "\n",
      "Passing `palette` without assigning `hue` is deprecated and will be removed in v0.14.0. Assign the `y` variable to `hue` and set `legend=False` for the same effect.\n",
      "\n",
      "  sns.countplot(y=df[column_name], palette=\"viridis\", order=df[column_name].value_counts().index)\n"
     ]
    },
    {
     "data": {
      "image/png": "[encoded data removed]",
      "text/plain": [
       "<Figure size 1000x600 with 1 Axes>"
      ]
     },
     "metadata": {},
     "output_type": "display_data"
    }
   ],
   "source": [
    "plot_distribution(df, 'workclass')"
   ]
  },
  {
   "cell_type": "code",
   "execution_count": 40,
   "metadata": {},
   "outputs": [
    {
     "name": "stdout",
     "output_type": "stream",
     "text": [
      "63.0\n"
     ]
    }
   ],
   "source": [
    "pct = np.percentile(df.loc[:, 'age'].fillna(np.mean(df.loc[:, 'age'])), 95)\n",
    "print(pct)\n",
    "df = df.loc[df.loc[:, 'age'] < pct]"
   ]
  },
  {
   "cell_type": "code",
   "execution_count": 98,
   "metadata": {},
   "outputs": [
    {
     "data": {
      "image/png": "[encoded data removed]",
      "text/plain": [
       "<Figure size 500x500 with 1 Axes>"
      ]
     },
     "metadata": {},
     "output_type": "display_data"
    },
    {
     "data": {
      "image/png": "[encoded data removed]",
      "text/plain": [
       "<Figure size 604.625x500 with 1 Axes>"
      ]
     },
     "metadata": {},
     "output_type": "display_data"
    }
   ],
   "source": [
    "sns.relplot(x=\"capital-gain\", y=\"salary\", data=df)\n",
    "sns.lmplot(x=\"capital-gain\", y=\"salary\", hue=\"sex\", data=df);"
   ]
  },
  {
   "cell_type": "markdown",
   "metadata": {},
   "source": [
    "### Drop rows"
   ]
  },
  {
   "cell_type": "code",
   "execution_count": 64,
   "metadata": {},
   "outputs": [
    {
     "name": "stdout",
     "output_type": "stream",
     "text": [
      "(30787, 15)\n",
      "(30787, 15)\n"
     ]
    }
   ],
   "source": [
    "print(df.shape)\n",
    "df = df.dropna(axis=1) #axis=0 is row, axis=1 is column\n",
    "print(df.shape)"
   ]
  },
  {
   "cell_type": "code",
   "execution_count": 66,
   "metadata": {},
   "outputs": [
    {
     "data": {
      "text/plain": [
       "Index(['age', 'workclass', 'fnlwgt', 'education', 'education-num',\n",
       "       'marital-status', 'occupation', 'relationship', 'race', 'sex',\n",
       "       'capital-gain', 'capital-loss', 'hours-per-week', 'native-country',\n",
       "       'salary'],\n",
       "      dtype='object')"
      ]
     },
     "execution_count": 66,
     "metadata": {},
     "output_type": "execute_result"
    }
   ],
   "source": [
    "df.columns"
   ]
  },
  {
   "cell_type": "markdown",
   "metadata": {},
   "source": [
    "### Snipping 95% capital gain, loss"
   ]
  },
  {
   "cell_type": "code",
   "execution_count": 69,
   "metadata": {},
   "outputs": [
    {
     "name": "stdout",
     "output_type": "stream",
     "text": [
      "4787.0\n"
     ]
    }
   ],
   "source": [
    "pct = np.percentile(df.loc[:, 'capital-gain'].fillna(np.mean(df.loc[:, 'capital-gain'])), 95)\n",
    "print(pct)\n",
    "df = df.loc[df.loc[:, 'capital-gain'] < pct]"
   ]
  },
  {
   "cell_type": "code",
   "execution_count": 71,
   "metadata": {},
   "outputs": [
    {
     "data": {
      "text/plain": [
       "(29244, 15)"
      ]
     },
     "execution_count": 71,
     "metadata": {},
     "output_type": "execute_result"
    }
   ],
   "source": [
    "df.describe().round()\n",
    "df.shape"
   ]
  },
  {
   "cell_type": "markdown",
   "metadata": {},
   "source": [
    "### Select only numerical columns to make correlation matrix"
   ]
  },
  {
   "cell_type": "code",
   "execution_count": 74,
   "metadata": {},
   "outputs": [
    {
     "name": "stdout",
     "output_type": "stream",
     "text": [
      "   age  fnlwgt  education-num  capital-gain  capital-loss  hours-per-week  \\\n",
      "0   39   77516             13          2174             0              40   \n",
      "1   50   83311             13             0             0              13   \n",
      "2   38  215646              9             0             0              40   \n",
      "3   53  234721              7             0             0              40   \n",
      "4   28  338409             13             0             0              40   \n",
      "\n",
      "   salary  \n",
      "0       0  \n",
      "1       0  \n",
      "2       0  \n",
      "3       0  \n",
      "4       0  \n",
      "Numerical Columns:\n",
      "['age', 'fnlwgt', 'education-num', 'capital-gain', 'capital-loss', 'hours-per-week', 'salary']\n"
     ]
    },
    {
     "data": {
      "image/png": "[encoded data removed]",
      "text/plain": [
       "<Figure size 2500x1200 with 2 Axes>"
      ]
     },
     "metadata": {},
     "output_type": "display_data"
    }
   ],
   "source": [
    "# Select only numerical columns to make correlation matrix\n",
    "\n",
    "numerical_df = df.select_dtypes(include=[np.number])\n",
    "\n",
    "numerical_cols = numerical_df.columns\n",
    "\n",
    "print(numerical_df.head())\n",
    "\n",
    "print(\"Numerical Columns:\")\n",
    "print(numerical_df.columns.tolist())\n",
    "corrmat = numerical_df.corr()   #get correlations table\n",
    "top_corr_features = corrmat.index\n",
    "plt.figure(figsize=(25,12))\n",
    "g=sns.heatmap(numerical_df[top_corr_features].corr(),annot=True,cmap=\"RdYlGn\")   #plot heat map"
   ]
  },
  {
   "cell_type": "code",
   "execution_count": null,
   "metadata": {},
   "outputs": [],
   "source": []
  },
  {
   "cell_type": "markdown",
   "metadata": {},
   "source": [
    "### For categorical to categorical"
   ]
  },
  {
   "cell_type": "code",
   "execution_count": 78,
   "metadata": {},
   "outputs": [
    {
     "name": "stdout",
     "output_type": "stream",
     "text": [
      "           workclass   education       marital-status          occupation  \\\n",
      "0          State-gov   Bachelors        Never-married        Adm-clerical   \n",
      "1   Self-emp-not-inc   Bachelors   Married-civ-spouse     Exec-managerial   \n",
      "2            Private     HS-grad             Divorced   Handlers-cleaners   \n",
      "3            Private        11th   Married-civ-spouse   Handlers-cleaners   \n",
      "4            Private   Bachelors   Married-civ-spouse      Prof-specialty   \n",
      "\n",
      "     relationship    race      sex  native-country  salary  \n",
      "0   Not-in-family   White     Male   United-States       0  \n",
      "1         Husband   White     Male   United-States       0  \n",
      "2   Not-in-family   White     Male   United-States       0  \n",
      "3         Husband   Black     Male   United-States       0  \n",
      "4            Wife   Black   Female            Cuba       0  \n"
     ]
    }
   ],
   "source": [
    "categorical_df = df.select_dtypes(include=['object'])\n",
    "price_df = df['salary']\n",
    "\n",
    "full_cat_frame = pd.concat([categorical_df, price_df], axis=1)\n",
    "\n",
    "# Display the resulting DataFrame\n",
    "print(full_cat_frame.head())"
   ]
  },
  {
   "cell_type": "code",
   "execution_count": 80,
   "metadata": {},
   "outputs": [
    {
     "name": "stdout",
     "output_type": "stream",
     "text": [
      "Feature: education, p-value: 0.0000\n",
      "Feature: marital-status, p-value: 0.0000\n",
      "Feature: occupation, p-value: 0.0000\n",
      "Feature: relationship, p-value: 0.0000\n",
      "Feature: sex, p-value: 0.0000\n",
      "Feature: workclass, p-value: 0.0000\n",
      "Feature: race, p-value: 0.0000\n",
      "Feature: native-country, p-value: 0.0000\n"
     ]
    }
   ],
   "source": [
    "from scipy.stats import chi2_contingency\n",
    "\n",
    "categorical_cols = [cname for cname in categorical_df.columns if categorical_df[cname].nunique() < 20 and categorical_df[cname].dtype == \"object\"]\n",
    "target = df['salary']\n",
    "\n",
    "# Initialize an empty dictionary to store feature and corresponding p-values\n",
    "chi2_p_values = {}\n",
    "\n",
    "# Chi-Square test for each categorical feature against the target variable\n",
    "for column in categorical_df.columns:\n",
    "    contingency_table = pd.crosstab(categorical_df[column], price_df)\n",
    "    chi2, p, dof, expected = chi2_contingency(contingency_table)\n",
    "    chi2_p_values[column] = p  # Store p-value in the dictionary\n",
    "\n",
    "# Sort the dictionary based on p-values in ascending order\n",
    "sorted_chi2_p_values = dict(sorted(chi2_p_values.items(), key=lambda item: item[1]))\n",
    "\n",
    "# Display the sorted p-values\n",
    "for feature, p_value in sorted_chi2_p_values.items():\n",
    "    print(f\"Feature: {feature}, p-value: {p_value:.4f}\") \n"
   ]
  },
  {
   "cell_type": "code",
   "execution_count": null,
   "metadata": {},
   "outputs": [],
   "source": []
  },
  {
   "cell_type": "code",
   "execution_count": 83,
   "metadata": {},
   "outputs": [
    {
     "data": {
      "text/html": [
       "<div>\n",
       "<style scoped>\n",
       "    .dataframe tbody tr th:only-of-type {\n",
       "        vertical-align: middle;\n",
       "    }\n",
       "\n",
       "    .dataframe tbody tr th {\n",
       "        vertical-align: top;\n",
       "    }\n",
       "\n",
       "    .dataframe thead th {\n",
       "        text-align: right;\n",
       "    }\n",
       "</style>\n",
       "<table border=\"1\" class=\"dataframe\">\n",
       "  <thead>\n",
       "    <tr style=\"text-align: right;\">\n",
       "      <th></th>\n",
       "      <th>age</th>\n",
       "      <th>workclass</th>\n",
       "      <th>fnlwgt</th>\n",
       "      <th>education</th>\n",
       "      <th>education-num</th>\n",
       "      <th>marital-status</th>\n",
       "      <th>occupation</th>\n",
       "      <th>relationship</th>\n",
       "      <th>race</th>\n",
       "      <th>sex</th>\n",
       "      <th>capital-gain</th>\n",
       "      <th>capital-loss</th>\n",
       "      <th>hours-per-week</th>\n",
       "      <th>native-country</th>\n",
       "      <th>salary</th>\n",
       "    </tr>\n",
       "  </thead>\n",
       "  <tbody>\n",
       "    <tr>\n",
       "      <th>0</th>\n",
       "      <td>39</td>\n",
       "      <td>State-gov</td>\n",
       "      <td>77516</td>\n",
       "      <td>Bachelors</td>\n",
       "      <td>13</td>\n",
       "      <td>Never-married</td>\n",
       "      <td>Adm-clerical</td>\n",
       "      <td>Not-in-family</td>\n",
       "      <td>White</td>\n",
       "      <td>Male</td>\n",
       "      <td>2174</td>\n",
       "      <td>0</td>\n",
       "      <td>40</td>\n",
       "      <td>United-States</td>\n",
       "      <td>0</td>\n",
       "    </tr>\n",
       "    <tr>\n",
       "      <th>1</th>\n",
       "      <td>50</td>\n",
       "      <td>Self-emp-not-inc</td>\n",
       "      <td>83311</td>\n",
       "      <td>Bachelors</td>\n",
       "      <td>13</td>\n",
       "      <td>Married-civ-spouse</td>\n",
       "      <td>Exec-managerial</td>\n",
       "      <td>Husband</td>\n",
       "      <td>White</td>\n",
       "      <td>Male</td>\n",
       "      <td>0</td>\n",
       "      <td>0</td>\n",
       "      <td>13</td>\n",
       "      <td>United-States</td>\n",
       "      <td>0</td>\n",
       "    </tr>\n",
       "    <tr>\n",
       "      <th>2</th>\n",
       "      <td>38</td>\n",
       "      <td>Private</td>\n",
       "      <td>215646</td>\n",
       "      <td>HS-grad</td>\n",
       "      <td>9</td>\n",
       "      <td>Divorced</td>\n",
       "      <td>Handlers-cleaners</td>\n",
       "      <td>Not-in-family</td>\n",
       "      <td>White</td>\n",
       "      <td>Male</td>\n",
       "      <td>0</td>\n",
       "      <td>0</td>\n",
       "      <td>40</td>\n",
       "      <td>United-States</td>\n",
       "      <td>0</td>\n",
       "    </tr>\n",
       "    <tr>\n",
       "      <th>3</th>\n",
       "      <td>53</td>\n",
       "      <td>Private</td>\n",
       "      <td>234721</td>\n",
       "      <td>11th</td>\n",
       "      <td>7</td>\n",
       "      <td>Married-civ-spouse</td>\n",
       "      <td>Handlers-cleaners</td>\n",
       "      <td>Husband</td>\n",
       "      <td>Black</td>\n",
       "      <td>Male</td>\n",
       "      <td>0</td>\n",
       "      <td>0</td>\n",
       "      <td>40</td>\n",
       "      <td>United-States</td>\n",
       "      <td>0</td>\n",
       "    </tr>\n",
       "    <tr>\n",
       "      <th>4</th>\n",
       "      <td>28</td>\n",
       "      <td>Private</td>\n",
       "      <td>338409</td>\n",
       "      <td>Bachelors</td>\n",
       "      <td>13</td>\n",
       "      <td>Married-civ-spouse</td>\n",
       "      <td>Prof-specialty</td>\n",
       "      <td>Wife</td>\n",
       "      <td>Black</td>\n",
       "      <td>Female</td>\n",
       "      <td>0</td>\n",
       "      <td>0</td>\n",
       "      <td>40</td>\n",
       "      <td>Cuba</td>\n",
       "      <td>0</td>\n",
       "    </tr>\n",
       "  </tbody>\n",
       "</table>\n",
       "</div>"
      ],
      "text/plain": [
       "   age          workclass  fnlwgt   education  education-num  \\\n",
       "0   39          State-gov   77516   Bachelors             13   \n",
       "1   50   Self-emp-not-inc   83311   Bachelors             13   \n",
       "2   38            Private  215646     HS-grad              9   \n",
       "3   53            Private  234721        11th              7   \n",
       "4   28            Private  338409   Bachelors             13   \n",
       "\n",
       "        marital-status          occupation    relationship    race      sex  \\\n",
       "0        Never-married        Adm-clerical   Not-in-family   White     Male   \n",
       "1   Married-civ-spouse     Exec-managerial         Husband   White     Male   \n",
       "2             Divorced   Handlers-cleaners   Not-in-family   White     Male   \n",
       "3   Married-civ-spouse   Handlers-cleaners         Husband   Black     Male   \n",
       "4   Married-civ-spouse      Prof-specialty            Wife   Black   Female   \n",
       "\n",
       "   capital-gain  capital-loss  hours-per-week  native-country  salary  \n",
       "0          2174             0              40   United-States       0  \n",
       "1             0             0              13   United-States       0  \n",
       "2             0             0              40   United-States       0  \n",
       "3             0             0              40   United-States       0  \n",
       "4             0             0              40            Cuba       0  "
      ]
     },
     "execution_count": 83,
     "metadata": {},
     "output_type": "execute_result"
    }
   ],
   "source": [
    "df.head()"
   ]
  },
  {
   "cell_type": "markdown",
   "metadata": {},
   "source": [
    "### for cat to continous target"
   ]
  },
  {
   "cell_type": "code",
   "execution_count": 85,
   "metadata": {},
   "outputs": [
    {
     "name": "stdout",
     "output_type": "stream",
     "text": [
      "Feature: workclass, p-value: 4.0381030940126735e-159\n",
      "Feature: education, p-value: 0.0\n",
      "Feature: marital-status, p-value: 0.0\n",
      "Feature: occupation, p-value: 0.0\n",
      "Feature: relationship, p-value: 0.0\n",
      "Feature: race, p-value: 8.290729299241414e-62\n",
      "Feature: sex, p-value: 5.535914868028678e-277\n",
      "Feature: native-country, p-value: 1.4922695328926316e-36\n"
     ]
    }
   ],
   "source": [
    "from scipy.stats import f_oneway\n",
    "\n",
    "# ANOVA test for each categorical feature against the target variable\n",
    "for column in categorical_df.columns:\n",
    "    feature_dict = {}\n",
    "    categories = [full_cat_frame[full_cat_frame[column] == cat]['salary'] for cat in full_cat_frame[column].unique()]\n",
    "    f_stat, p = f_oneway(*categories)\n",
    "    feature_dict[column] = p\n",
    "    print(f\"Feature: {column}, p-value: {p}\")\n",
    "\n",
    "## Low p-value means significant assiciation with target"
   ]
  },
  {
   "cell_type": "code",
   "execution_count": 87,
   "metadata": {},
   "outputs": [
    {
     "name": "stdout",
     "output_type": "stream",
     "text": [
      "['workclass', 'education', 'marital-status', 'occupation', 'relationship', 'race', 'sex']\n"
     ]
    }
   ],
   "source": [
    "print(categorical_cols)"
   ]
  },
  {
   "cell_type": "code",
   "execution_count": 91,
   "metadata": {},
   "outputs": [
    {
     "data": {
      "text/plain": [
       "['age',\n",
       " 'fnlwgt',\n",
       " 'education-num',\n",
       " 'capital-gain',\n",
       " 'capital-loss',\n",
       " 'hours-per-week']"
      ]
     },
     "execution_count": 91,
     "metadata": {},
     "output_type": "execute_result"
    }
   ],
   "source": [
    "numerical_cols = [cname for cname in df.columns if df[cname].dtype in ['int64', 'float64'] and cname != 'salary']\n",
    "numerical_cols"
   ]
  },
  {
   "cell_type": "code",
   "execution_count": 180,
   "metadata": {},
   "outputs": [],
   "source": [
    "#columns_drop = ['education', 'fnlwgt']\n",
    "\n",
    "#df = df.drop(columns=columns_drop, axis=1)\n",
    "#df.head()\n",
    "\n",
    "df['gain-loss-sum'] = df['capital-gain'] - df['capital-loss']"
   ]
  },
  {
   "cell_type": "code",
   "execution_count": 182,
   "metadata": {},
   "outputs": [
    {
     "data": {
      "text/html": [
       "<div>\n",
       "<style scoped>\n",
       "    .dataframe tbody tr th:only-of-type {\n",
       "        vertical-align: middle;\n",
       "    }\n",
       "\n",
       "    .dataframe tbody tr th {\n",
       "        vertical-align: top;\n",
       "    }\n",
       "\n",
       "    .dataframe thead th {\n",
       "        text-align: right;\n",
       "    }\n",
       "</style>\n",
       "<table border=\"1\" class=\"dataframe\">\n",
       "  <thead>\n",
       "    <tr style=\"text-align: right;\">\n",
       "      <th></th>\n",
       "      <th>age</th>\n",
       "      <th>workclass</th>\n",
       "      <th>education-num</th>\n",
       "      <th>marital-status</th>\n",
       "      <th>occupation</th>\n",
       "      <th>relationship</th>\n",
       "      <th>race</th>\n",
       "      <th>sex</th>\n",
       "      <th>capital-gain</th>\n",
       "      <th>capital-loss</th>\n",
       "      <th>hours-per-week</th>\n",
       "      <th>native-country</th>\n",
       "      <th>salary</th>\n",
       "      <th>gain-loss-sum</th>\n",
       "    </tr>\n",
       "  </thead>\n",
       "  <tbody>\n",
       "    <tr>\n",
       "      <th>0</th>\n",
       "      <td>39</td>\n",
       "      <td>State-gov</td>\n",
       "      <td>13</td>\n",
       "      <td>Never-married</td>\n",
       "      <td>Adm-clerical</td>\n",
       "      <td>Not-in-family</td>\n",
       "      <td>White</td>\n",
       "      <td>Male</td>\n",
       "      <td>2174</td>\n",
       "      <td>0</td>\n",
       "      <td>40</td>\n",
       "      <td>United-States</td>\n",
       "      <td>0</td>\n",
       "      <td>2174</td>\n",
       "    </tr>\n",
       "    <tr>\n",
       "      <th>1</th>\n",
       "      <td>50</td>\n",
       "      <td>Self-emp-not-inc</td>\n",
       "      <td>13</td>\n",
       "      <td>Married-civ-spouse</td>\n",
       "      <td>Exec-managerial</td>\n",
       "      <td>Husband</td>\n",
       "      <td>White</td>\n",
       "      <td>Male</td>\n",
       "      <td>0</td>\n",
       "      <td>0</td>\n",
       "      <td>13</td>\n",
       "      <td>United-States</td>\n",
       "      <td>0</td>\n",
       "      <td>0</td>\n",
       "    </tr>\n",
       "    <tr>\n",
       "      <th>2</th>\n",
       "      <td>38</td>\n",
       "      <td>Private</td>\n",
       "      <td>9</td>\n",
       "      <td>Divorced</td>\n",
       "      <td>Handlers-cleaners</td>\n",
       "      <td>Not-in-family</td>\n",
       "      <td>White</td>\n",
       "      <td>Male</td>\n",
       "      <td>0</td>\n",
       "      <td>0</td>\n",
       "      <td>40</td>\n",
       "      <td>United-States</td>\n",
       "      <td>0</td>\n",
       "      <td>0</td>\n",
       "    </tr>\n",
       "    <tr>\n",
       "      <th>3</th>\n",
       "      <td>53</td>\n",
       "      <td>Private</td>\n",
       "      <td>7</td>\n",
       "      <td>Married-civ-spouse</td>\n",
       "      <td>Handlers-cleaners</td>\n",
       "      <td>Husband</td>\n",
       "      <td>Black</td>\n",
       "      <td>Male</td>\n",
       "      <td>0</td>\n",
       "      <td>0</td>\n",
       "      <td>40</td>\n",
       "      <td>United-States</td>\n",
       "      <td>0</td>\n",
       "      <td>0</td>\n",
       "    </tr>\n",
       "    <tr>\n",
       "      <th>4</th>\n",
       "      <td>28</td>\n",
       "      <td>Private</td>\n",
       "      <td>13</td>\n",
       "      <td>Married-civ-spouse</td>\n",
       "      <td>Prof-specialty</td>\n",
       "      <td>Wife</td>\n",
       "      <td>Black</td>\n",
       "      <td>Female</td>\n",
       "      <td>0</td>\n",
       "      <td>0</td>\n",
       "      <td>40</td>\n",
       "      <td>Cuba</td>\n",
       "      <td>0</td>\n",
       "      <td>0</td>\n",
       "    </tr>\n",
       "  </tbody>\n",
       "</table>\n",
       "</div>"
      ],
      "text/plain": [
       "   age          workclass  education-num       marital-status  \\\n",
       "0   39          State-gov             13        Never-married   \n",
       "1   50   Self-emp-not-inc             13   Married-civ-spouse   \n",
       "2   38            Private              9             Divorced   \n",
       "3   53            Private              7   Married-civ-spouse   \n",
       "4   28            Private             13   Married-civ-spouse   \n",
       "\n",
       "           occupation    relationship    race      sex  capital-gain  \\\n",
       "0        Adm-clerical   Not-in-family   White     Male          2174   \n",
       "1     Exec-managerial         Husband   White     Male             0   \n",
       "2   Handlers-cleaners   Not-in-family   White     Male             0   \n",
       "3   Handlers-cleaners         Husband   Black     Male             0   \n",
       "4      Prof-specialty            Wife   Black   Female             0   \n",
       "\n",
       "   capital-loss  hours-per-week  native-country  salary  gain-loss-sum  \n",
       "0             0              40   United-States       0           2174  \n",
       "1             0              13   United-States       0              0  \n",
       "2             0              40   United-States       0              0  \n",
       "3             0              40   United-States       0              0  \n",
       "4             0              40            Cuba       0              0  "
      ]
     },
     "execution_count": 182,
     "metadata": {},
     "output_type": "execute_result"
    }
   ],
   "source": [
    "df.head()"
   ]
  },
  {
   "cell_type": "markdown",
   "metadata": {},
   "source": [
    "## Data Loading"
   ]
  },
  {
   "cell_type": "code",
   "execution_count": 184,
   "metadata": {},
   "outputs": [],
   "source": [
    "# Separate target from predictors\n",
    "y = df.salary\n",
    "X = df.drop(['salary'], axis=1)\n",
    "\n",
    "# Divide data into training and validation subsets\n",
    "X_train, X_valid, y_train, y_valid = train_test_split(X, y, train_size=0.8, test_size=0.2,\n",
    "                                                                random_state=0)\n",
    "\n",
    "# \"Cardinality\" means the number of unique values in a column\n",
    "# Select categorical columns with relatively low cardinality (convenient but arbitrary)\n",
    "categorical_cols = [cname for cname in X_train.columns if X_train[cname].nunique() < 10 and \n",
    "                        X_train[cname].dtype == \"object\"]\n",
    "\n",
    "# Select numerical columns\n",
    "numerical_cols = [cname for cname in X_train.columns if X_train[cname].dtype in ['int64', 'float64'] and cname != 'salary']\n",
    "\n",
    "# Keep selected columns only\n",
    "#my_cols = categorical_cols + numerical_cols\n",
    "#X_train = X_train_full[my_cols].copy()\n",
    "#X_valid = X_valid_full[my_cols].copy()"
   ]
  },
  {
   "cell_type": "code",
   "execution_count": 186,
   "metadata": {},
   "outputs": [
    {
     "data": {
      "text/plain": [
       "['age',\n",
       " 'education-num',\n",
       " 'capital-gain',\n",
       " 'capital-loss',\n",
       " 'hours-per-week',\n",
       " 'gain-loss-sum']"
      ]
     },
     "execution_count": 186,
     "metadata": {},
     "output_type": "execute_result"
    }
   ],
   "source": [
    "numerical_cols"
   ]
  },
  {
   "cell_type": "code",
   "execution_count": 188,
   "metadata": {},
   "outputs": [
    {
     "data": {
      "text/plain": [
       "['workclass', 'marital-status', 'relationship', 'race', 'sex']"
      ]
     },
     "execution_count": 188,
     "metadata": {},
     "output_type": "execute_result"
    }
   ],
   "source": [
    "categorical_cols"
   ]
  },
  {
   "cell_type": "code",
   "execution_count": 190,
   "metadata": {},
   "outputs": [
    {
     "data": {
      "text/html": [
       "<div>\n",
       "<style scoped>\n",
       "    .dataframe tbody tr th:only-of-type {\n",
       "        vertical-align: middle;\n",
       "    }\n",
       "\n",
       "    .dataframe tbody tr th {\n",
       "        vertical-align: top;\n",
       "    }\n",
       "\n",
       "    .dataframe thead th {\n",
       "        text-align: right;\n",
       "    }\n",
       "</style>\n",
       "<table border=\"1\" class=\"dataframe\">\n",
       "  <thead>\n",
       "    <tr style=\"text-align: right;\">\n",
       "      <th></th>\n",
       "      <th>age</th>\n",
       "      <th>workclass</th>\n",
       "      <th>education-num</th>\n",
       "      <th>marital-status</th>\n",
       "      <th>occupation</th>\n",
       "      <th>relationship</th>\n",
       "      <th>race</th>\n",
       "      <th>sex</th>\n",
       "      <th>capital-gain</th>\n",
       "      <th>capital-loss</th>\n",
       "      <th>hours-per-week</th>\n",
       "      <th>native-country</th>\n",
       "      <th>gain-loss-sum</th>\n",
       "    </tr>\n",
       "  </thead>\n",
       "  <tbody>\n",
       "    <tr>\n",
       "      <th>7321</th>\n",
       "      <td>20</td>\n",
       "      <td>Private</td>\n",
       "      <td>4</td>\n",
       "      <td>Never-married</td>\n",
       "      <td>Machine-op-inspct</td>\n",
       "      <td>Other-relative</td>\n",
       "      <td>White</td>\n",
       "      <td>Male</td>\n",
       "      <td>0</td>\n",
       "      <td>0</td>\n",
       "      <td>40</td>\n",
       "      <td>United-States</td>\n",
       "      <td>0</td>\n",
       "    </tr>\n",
       "    <tr>\n",
       "      <th>16149</th>\n",
       "      <td>40</td>\n",
       "      <td>Private</td>\n",
       "      <td>6</td>\n",
       "      <td>Divorced</td>\n",
       "      <td>Machine-op-inspct</td>\n",
       "      <td>Not-in-family</td>\n",
       "      <td>White</td>\n",
       "      <td>Female</td>\n",
       "      <td>0</td>\n",
       "      <td>0</td>\n",
       "      <td>35</td>\n",
       "      <td>United-States</td>\n",
       "      <td>0</td>\n",
       "    </tr>\n",
       "    <tr>\n",
       "      <th>27504</th>\n",
       "      <td>51</td>\n",
       "      <td>Local-gov</td>\n",
       "      <td>10</td>\n",
       "      <td>Married-civ-spouse</td>\n",
       "      <td>Adm-clerical</td>\n",
       "      <td>Wife</td>\n",
       "      <td>White</td>\n",
       "      <td>Female</td>\n",
       "      <td>0</td>\n",
       "      <td>0</td>\n",
       "      <td>40</td>\n",
       "      <td>United-States</td>\n",
       "      <td>0</td>\n",
       "    </tr>\n",
       "    <tr>\n",
       "      <th>4520</th>\n",
       "      <td>35</td>\n",
       "      <td>Private</td>\n",
       "      <td>9</td>\n",
       "      <td>Married-civ-spouse</td>\n",
       "      <td>Other-service</td>\n",
       "      <td>Husband</td>\n",
       "      <td>White</td>\n",
       "      <td>Male</td>\n",
       "      <td>0</td>\n",
       "      <td>0</td>\n",
       "      <td>60</td>\n",
       "      <td>United-States</td>\n",
       "      <td>0</td>\n",
       "    </tr>\n",
       "    <tr>\n",
       "      <th>30605</th>\n",
       "      <td>28</td>\n",
       "      <td>Private</td>\n",
       "      <td>13</td>\n",
       "      <td>Married-civ-spouse</td>\n",
       "      <td>Prof-specialty</td>\n",
       "      <td>Husband</td>\n",
       "      <td>White</td>\n",
       "      <td>Male</td>\n",
       "      <td>0</td>\n",
       "      <td>0</td>\n",
       "      <td>55</td>\n",
       "      <td>United-States</td>\n",
       "      <td>0</td>\n",
       "    </tr>\n",
       "  </tbody>\n",
       "</table>\n",
       "</div>"
      ],
      "text/plain": [
       "       age   workclass  education-num       marital-status  \\\n",
       "7321    20     Private              4        Never-married   \n",
       "16149   40     Private              6             Divorced   \n",
       "27504   51   Local-gov             10   Married-civ-spouse   \n",
       "4520    35     Private              9   Married-civ-spouse   \n",
       "30605   28     Private             13   Married-civ-spouse   \n",
       "\n",
       "               occupation     relationship    race      sex  capital-gain  \\\n",
       "7321    Machine-op-inspct   Other-relative   White     Male             0   \n",
       "16149   Machine-op-inspct    Not-in-family   White   Female             0   \n",
       "27504        Adm-clerical             Wife   White   Female             0   \n",
       "4520        Other-service          Husband   White     Male             0   \n",
       "30605      Prof-specialty          Husband   White     Male             0   \n",
       "\n",
       "       capital-loss  hours-per-week  native-country  gain-loss-sum  \n",
       "7321              0              40   United-States              0  \n",
       "16149             0              35   United-States              0  \n",
       "27504             0              40   United-States              0  \n",
       "4520              0              60   United-States              0  \n",
       "30605             0              55   United-States              0  "
      ]
     },
     "execution_count": 190,
     "metadata": {},
     "output_type": "execute_result"
    }
   ],
   "source": [
    "X_train.head()"
   ]
  },
  {
   "cell_type": "code",
   "execution_count": 192,
   "metadata": {},
   "outputs": [
    {
     "data": {
      "text/html": [
       "<div>\n",
       "<style scoped>\n",
       "    .dataframe tbody tr th:only-of-type {\n",
       "        vertical-align: middle;\n",
       "    }\n",
       "\n",
       "    .dataframe tbody tr th {\n",
       "        vertical-align: top;\n",
       "    }\n",
       "\n",
       "    .dataframe thead th {\n",
       "        text-align: right;\n",
       "    }\n",
       "</style>\n",
       "<table border=\"1\" class=\"dataframe\">\n",
       "  <thead>\n",
       "    <tr style=\"text-align: right;\">\n",
       "      <th></th>\n",
       "      <th>age</th>\n",
       "      <th>workclass</th>\n",
       "      <th>education-num</th>\n",
       "      <th>marital-status</th>\n",
       "      <th>occupation</th>\n",
       "      <th>relationship</th>\n",
       "      <th>race</th>\n",
       "      <th>sex</th>\n",
       "      <th>capital-gain</th>\n",
       "      <th>capital-loss</th>\n",
       "      <th>hours-per-week</th>\n",
       "      <th>native-country</th>\n",
       "      <th>gain-loss-sum</th>\n",
       "    </tr>\n",
       "  </thead>\n",
       "  <tbody>\n",
       "    <tr>\n",
       "      <th>15700</th>\n",
       "      <td>36</td>\n",
       "      <td>Private</td>\n",
       "      <td>9</td>\n",
       "      <td>Married-civ-spouse</td>\n",
       "      <td>Other-service</td>\n",
       "      <td>Husband</td>\n",
       "      <td>White</td>\n",
       "      <td>Male</td>\n",
       "      <td>0</td>\n",
       "      <td>0</td>\n",
       "      <td>50</td>\n",
       "      <td>United-States</td>\n",
       "      <td>0</td>\n",
       "    </tr>\n",
       "    <tr>\n",
       "      <th>31911</th>\n",
       "      <td>32</td>\n",
       "      <td>Private</td>\n",
       "      <td>10</td>\n",
       "      <td>Married-civ-spouse</td>\n",
       "      <td>Prof-specialty</td>\n",
       "      <td>Husband</td>\n",
       "      <td>White</td>\n",
       "      <td>Male</td>\n",
       "      <td>0</td>\n",
       "      <td>0</td>\n",
       "      <td>38</td>\n",
       "      <td>United-States</td>\n",
       "      <td>0</td>\n",
       "    </tr>\n",
       "    <tr>\n",
       "      <th>29161</th>\n",
       "      <td>47</td>\n",
       "      <td>Private</td>\n",
       "      <td>10</td>\n",
       "      <td>Married-civ-spouse</td>\n",
       "      <td>Exec-managerial</td>\n",
       "      <td>Wife</td>\n",
       "      <td>White</td>\n",
       "      <td>Female</td>\n",
       "      <td>0</td>\n",
       "      <td>0</td>\n",
       "      <td>50</td>\n",
       "      <td>United-States</td>\n",
       "      <td>0</td>\n",
       "    </tr>\n",
       "    <tr>\n",
       "      <th>22776</th>\n",
       "      <td>26</td>\n",
       "      <td>Private</td>\n",
       "      <td>10</td>\n",
       "      <td>Never-married</td>\n",
       "      <td>Other-service</td>\n",
       "      <td>Own-child</td>\n",
       "      <td>White</td>\n",
       "      <td>Female</td>\n",
       "      <td>0</td>\n",
       "      <td>0</td>\n",
       "      <td>45</td>\n",
       "      <td>United-States</td>\n",
       "      <td>0</td>\n",
       "    </tr>\n",
       "    <tr>\n",
       "      <th>15990</th>\n",
       "      <td>19</td>\n",
       "      <td>Self-emp-not-inc</td>\n",
       "      <td>5</td>\n",
       "      <td>Never-married</td>\n",
       "      <td>Prof-specialty</td>\n",
       "      <td>Not-in-family</td>\n",
       "      <td>White</td>\n",
       "      <td>Male</td>\n",
       "      <td>0</td>\n",
       "      <td>0</td>\n",
       "      <td>35</td>\n",
       "      <td>Mexico</td>\n",
       "      <td>0</td>\n",
       "    </tr>\n",
       "  </tbody>\n",
       "</table>\n",
       "</div>"
      ],
      "text/plain": [
       "       age          workclass  education-num       marital-status  \\\n",
       "15700   36            Private              9   Married-civ-spouse   \n",
       "31911   32            Private             10   Married-civ-spouse   \n",
       "29161   47            Private             10   Married-civ-spouse   \n",
       "22776   26            Private             10        Never-married   \n",
       "15990   19   Self-emp-not-inc              5        Never-married   \n",
       "\n",
       "             occupation    relationship    race      sex  capital-gain  \\\n",
       "15700     Other-service         Husband   White     Male             0   \n",
       "31911    Prof-specialty         Husband   White     Male             0   \n",
       "29161   Exec-managerial            Wife   White   Female             0   \n",
       "22776     Other-service       Own-child   White   Female             0   \n",
       "15990    Prof-specialty   Not-in-family   White     Male             0   \n",
       "\n",
       "       capital-loss  hours-per-week  native-country  gain-loss-sum  \n",
       "15700             0              50   United-States              0  \n",
       "31911             0              38   United-States              0  \n",
       "29161             0              50   United-States              0  \n",
       "22776             0              45   United-States              0  \n",
       "15990             0              35          Mexico              0  "
      ]
     },
     "execution_count": 192,
     "metadata": {},
     "output_type": "execute_result"
    }
   ],
   "source": [
    "X_valid.head()"
   ]
  },
  {
   "cell_type": "code",
   "execution_count": 198,
   "metadata": {},
   "outputs": [
    {
     "data": {
      "text/plain": [
       "7321     0\n",
       "16149    0\n",
       "27504    0\n",
       "4520     0\n",
       "30605    0\n",
       "Name: salary, dtype: int64"
      ]
     },
     "execution_count": 198,
     "metadata": {},
     "output_type": "execute_result"
    }
   ],
   "source": [
    "y_train.head()"
   ]
  },
  {
   "cell_type": "code",
   "execution_count": 200,
   "metadata": {},
   "outputs": [
    {
     "data": {
      "text/plain": [
       "(5849,)"
      ]
     },
     "execution_count": 200,
     "metadata": {},
     "output_type": "execute_result"
    }
   ],
   "source": [
    "y_valid.head()\n",
    "y_valid.shape"
   ]
  },
  {
   "cell_type": "markdown",
   "metadata": {},
   "source": [
    "#### The scoring function"
   ]
  },
  {
   "cell_type": "code",
   "execution_count": 203,
   "metadata": {},
   "outputs": [],
   "source": [
    "from sklearn.ensemble import RandomForestClassifier\n",
    "from sklearn.metrics import accuracy_score, f1_score, recall_score, precision_score"
   ]
  },
  {
   "cell_type": "code",
   "execution_count": 205,
   "metadata": {},
   "outputs": [],
   "source": [
    "# Function for comparing different approaches\n",
    "def score_dataset(X_train, X_valid, y_train, y_valid):\n",
    "    model = RandomForestClassifier(n_estimators=10, random_state=0)\n",
    "    model.fit(X_train, y_train)\n",
    "    preds = model.predict(X_valid)\n",
    "    return accuracy_score(y_valid, preds)"
   ]
  },
  {
   "cell_type": "markdown",
   "metadata": {},
   "source": [
    "## Instantiate pipeline"
   ]
  },
  {
   "cell_type": "code",
   "execution_count": 208,
   "metadata": {},
   "outputs": [],
   "source": [
    "from sklearn.compose import ColumnTransformer\n",
    "from sklearn.pipeline import Pipeline\n",
    "from sklearn.impute import SimpleImputer\n",
    "from sklearn.preprocessing import OneHotEncoder\n",
    "\n",
    "# Preprocessing for numerical data\n",
    "numerical_transformer = SimpleImputer(strategy='mean')\n",
    "\n",
    "# Preprocessing for categorical data\n",
    "categorical_transformer = Pipeline(steps=[\n",
    "    ('imputer', SimpleImputer(strategy='most_frequent')),\n",
    "    ('onehot', OneHotEncoder(handle_unknown='ignore'))\n",
    "])\n",
    "\n",
    "\n",
    "# Bundle preprocessing for numerical and categorical data\n",
    "preprocessor = ColumnTransformer(\n",
    "    transformers=[\n",
    "        ('num', numerical_transformer, numerical_cols),\n",
    "        ('cat', categorical_transformer, categorical_cols)\n",
    "    ])"
   ]
  },
  {
   "cell_type": "markdown",
   "metadata": {},
   "source": [
    "## Model"
   ]
  },
  {
   "cell_type": "code",
   "execution_count": 211,
   "metadata": {},
   "outputs": [],
   "source": [
    "from sklearn.metrics import confusion_matrix, ConfusionMatrixDisplay\n"
   ]
  },
  {
   "cell_type": "code",
   "execution_count": 217,
   "metadata": {},
   "outputs": [
    {
     "name": "stdout",
     "output_type": "stream",
     "text": [
      "Accuracy: 0.8252692767994529\n"
     ]
    }
   ],
   "source": [
    "rf_model = RandomForestClassifier(class_weight='balanced', n_estimators=100, random_state=0)\n",
    "\n",
    "# Bundle preprocessing and modeling code in a pipeline\n",
    "rf_pipe = Pipeline(steps=[('preprocessor', preprocessor),\n",
    "                              ('model', rf_model)\n",
    "                             ])\n",
    "\n",
    "# Preprocessing of training data, fit model \n",
    "rf_pipe.fit(X_train, y_train)\n",
    "\n",
    "# Preprocessing of validation data, get predictions\n",
    "preds = rf_pipe.predict(X_valid)\n",
    "\n",
    "# Evaluate the model\n",
    "score = accuracy_score(y_valid, preds)\n",
    "print('Accuracy:', score)"
   ]
  },
  {
   "cell_type": "code",
   "execution_count": 219,
   "metadata": {},
   "outputs": [
    {
     "name": "stdout",
     "output_type": "stream",
     "text": [
      "Recall: 0.6306451612903226\n"
     ]
    }
   ],
   "source": [
    "score = recall_score(y_valid, preds)\n",
    "print('Recall:', score)"
   ]
  },
  {
   "cell_type": "code",
   "execution_count": 221,
   "metadata": {},
   "outputs": [
    {
     "data": {
      "text/plain": [
       "array([[4045,  564],\n",
       "       [ 458,  782]], dtype=int64)"
      ]
     },
     "execution_count": 221,
     "metadata": {},
     "output_type": "execute_result"
    }
   ],
   "source": [
    "cm = confusion_matrix(y_valid, preds)\n",
    "cm"
   ]
  },
  {
   "cell_type": "code",
   "execution_count": 223,
   "metadata": {},
   "outputs": [
    {
     "name": "stdout",
     "output_type": "stream",
     "text": [
      "Confusion Matrix:\n",
      "[[4045  564]\n",
      " [ 458  782]]\n"
     ]
    },
    {
     "data": {
      "image/png": "[encoded data removed]",
      "text/plain": [
       "<Figure size 640x480 with 2 Axes>"
      ]
     },
     "metadata": {},
     "output_type": "display_data"
    }
   ],
   "source": [
    "cm = confusion_matrix(y_valid, preds)\n",
    "\n",
    "# Display confusion matrix\n",
    "print(\"Confusion Matrix:\")\n",
    "print(cm)\n",
    "\n",
    "# Plot confusion matrix\n",
    "disp = ConfusionMatrixDisplay(confusion_matrix=cm)\n",
    "disp.plot(cmap='Blues')  # You can choose other color maps like 'viridis', 'plasma', etc.\n",
    "plt.title('Confusion Matrix')\n",
    "plt.show()"
   ]
  },
  {
   "cell_type": "code",
   "execution_count": 225,
   "metadata": {},
   "outputs": [
    {
     "name": "stdout",
     "output_type": "stream",
     "text": [
      "Accuracy: 0.8253\n",
      "Precision: 0.5810\n",
      "Recall: 0.6306\n",
      "F1 Score: 0.6048\n"
     ]
    }
   ],
   "source": [
    "TN, FP, FN, TP = cm.ravel()\n",
    "\n",
    "accuracy = (TP + TN) / (TP + TN + FP + FN)\n",
    "precision = TP / (TP + FP) if (TP + FP) != 0 else 0\n",
    "recall = TP / (TP + FN) if (TP + FN) != 0 else 0\n",
    "f1 = 2 * (precision * recall) / (precision + recall) if (precision + recall) != 0 else 0\n",
    "\n",
    "print(f\"Accuracy: {accuracy:.4f}\")\n",
    "print(f\"Precision: {precision:.4f}\")\n",
    "print(f\"Recall: {recall:.4f}\")\n",
    "print(f\"F1 Score: {f1:.4f}\")"
   ]
  },
  {
   "cell_type": "markdown",
   "metadata": {},
   "source": [
    "### Feature Importance"
   ]
  },
  {
   "cell_type": "code",
   "execution_count": 172,
   "metadata": {},
   "outputs": [
    {
     "data": {
      "image/png": "[encoded data removed]",
      "text/plain": [
       "<Figure size 1000x800 with 1 Axes>"
      ]
     },
     "metadata": {},
     "output_type": "display_data"
    }
   ],
   "source": [
    "# Get feature importances\n",
    "importances = rf_model.feature_importances_\n",
    "\n",
    "# Get feature names after preprocessing\n",
    "feature_names = rf_pipe.named_steps['preprocessor'].get_feature_names_out()\n",
    "\n",
    "# Create a DataFrame for better visualization\n",
    "feature_importances = pd.DataFrame({\n",
    "    'Feature': feature_names,\n",
    "    'Importance': importances\n",
    "})\n",
    "\n",
    "# Sort the DataFrame by importance\n",
    "feature_importances = feature_importances.sort_values(by='Importance', ascending=False)\n",
    "\n",
    "# Plot the feature importances\n",
    "plt.figure(figsize=(10, 8))\n",
    "plt.barh(feature_importances['Feature'], feature_importances['Importance'], color='skyblue')\n",
    "plt.gca().invert_yaxis()  # Invert y-axis to display the highest importance at the top\n",
    "plt.xlabel('Feature Importance')\n",
    "plt.title('Feature Importances from Random Forest')\n",
    "plt.show()"
   ]
  },
  {
   "cell_type": "markdown",
   "metadata": {},
   "source": [
    "### Adding more features"
   ]
  },
  {
   "cell_type": "code",
   "execution_count": null,
   "metadata": {},
   "outputs": [],
   "source": [
    "# Create synthetic features\n",
    "X[\"FCRatio\"] = X[\"FineAggregate\"] / X[\"CoarseAggregate\"]\n",
    "X[\"AggCmtRatio\"] = (X[\"CoarseAggregate\"] + X[\"FineAggregate\"]) / X[\"Cement\"]\n",
    "X[\"WtrCmtRatio\"] = X[\"Water\"] / X[\"Cement\"]\n"
   ]
  }
 ],
 "metadata": {
  "kernelspec": {
   "display_name": "Python 3 (ipykernel)",
   "language": "python",
   "name": "python3"
  },
  "language_info": {
   "codemirror_mode": {
    "name": "ipython",
    "version": 3
   },
   "file_extension": ".py",
   "mimetype": "text/x-python",
   "name": "python",
   "nbconvert_exporter": "python",
   "pygments_lexer": "ipython3",
   "version": "3.12.4"
  }
 },
 "nbformat": 4,
 "nbformat_minor": 4
}
